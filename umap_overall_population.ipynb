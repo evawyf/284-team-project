{
 "cells": [
  {
   "cell_type": "code",
   "execution_count": 1,
   "metadata": {},
   "outputs": [
    {
     "name": "stdout",
     "output_type": "stream",
     "text": [
      "Importing Jupyter notebook from /Users/mirandago/Desktop/284-team-project/Analysis/kmeans.ipynb\n"
     ]
    }
   ],
   "source": [
    "%matplotlib inline\n",
    "import matplotlib.pyplot as plt\n",
    "import pandas as pd\n",
    "import numpy as np \n",
    "import os\n",
    "import umap\n",
    "import nbimporter\n",
    "from Analysis import kmeans"
   ]
  },
  {
   "cell_type": "code",
   "execution_count": 2,
   "metadata": {},
   "outputs": [
    {
     "name": "stdout",
     "output_type": "stream",
     "text": [
      "(2504, 70)\n"
     ]
    }
   ],
   "source": [
    "pc = np.load('./PCA_top100.npy')\n",
    "pc = pc[:,0:70]\n",
    "print(np.shape(pc))"
   ]
  },
  {
   "cell_type": "code",
   "execution_count": 3,
   "metadata": {
    "collapsed": true
   },
   "outputs": [],
   "source": [
    "UMap = umap.UMAP().fit_transform(pc)"
   ]
  },
  {
   "cell_type": "code",
   "execution_count": 4,
   "metadata": {},
   "outputs": [
    {
     "data": {
      "image/png": "[encoded data removed]",
      "text/plain": [
       "<Figure size 432x288 with 1 Axes>"
      ]
     },
     "metadata": {},
     "output_type": "display_data"
    }
   ],
   "source": [
    "#Plot tSNE data\n",
    "\n",
    "#Load population labels\n",
    "sample_to_pop = {}\n",
    "with open(\"df_pop.csv\", \"r\") as f:\n",
    "    for line in f:  \n",
    "        sample, pop = line.strip().split(\",\")\n",
    "        sample_to_pop[sample] = pop\n",
    "\n",
    "pop_to_color = {\n",
    "    # EAS - yellow & orange\n",
    "    \"CHB\": \"yellow\", \"JPT\": \"khaki\", \"CHS\": \"gold\", \"CDX\": \"orange\", \"KHV\": \"darkorange\", \n",
    "    # EUR - blue\n",
    "    \"CEU\": \"blue\", \"TSI\": \"dodgerblue\", \"FIN\": \"deepskyblue\", \"GBR\": \"darkblue\", \"IBS\": \"royalblue\",\n",
    "    # AFR - green\n",
    "    \"YRI\": \"green\", \"LWK\": \"forestgreen\", \"GWD\": \"limegreen\", \"MSL\": \"lime\", \"ESN\": \"greenyellow\", \n",
    "    \"ASW\": \"springgreen\", \"ACB\": \"seagreen\", \n",
    "    # AMR - purple\n",
    "    \"MXL\": \"purple\", \"PUR\": \"darkviolet\", \"CLM\": \"magenta\", \"PEL\": \"deeppink\", \n",
    "    # SAS - red\n",
    "    \"GIH\": \"red\", \"PJL\": \"crimson\", \"BEB\": \"firebrick\", \"STU\": \"lightcoral\", \"ITU\": \"indianred\", \n",
    "    # None\n",
    "    \"None\": \"lightgrey\"  \n",
    "}\n",
    "\n",
    "colors = []\n",
    "sample_names = []\n",
    "for sample in sample_to_pop.values():\n",
    "    if len(sample) == 3:\n",
    "        color = pop_to_color[sample]\n",
    "        colors.append(color)    \n",
    "    \n",
    "umap1 = UMap[0:, 0:1].transpose()[0]\n",
    "umap2 = UMap[0:, 1:2].transpose()[0]\n",
    "\n",
    "# Make the plot\n",
    "fig = plt.figure()\n",
    "ax = fig.add_subplot(111)\n",
    "ax.scatter(umap1,umap2, color=colors, s=5)\n",
    "ax.set_xlabel(\"Umap 1\", size=15)\n",
    "ax.set_ylabel(\"Umap 2\", size=15)\n",
    "ax.set_xticklabels(ax.get_xticks(), size=12)\n",
    "ax.set_yticklabels(ax.get_yticks(), size=12)\n",
    "ax.spines[\"top\"].set_visible(False);\n",
    "ax.spines[\"right\"].set_visible(False);\n",
    "\n",
    "ax.get_xaxis().tick_bottom();\n",
    "ax.get_yaxis().tick_left();"
   ]
  },
  {
   "cell_type": "markdown",
   "metadata": {},
   "source": [
    "## KMeans Clustering into 5 Clusters"
   ]
  },
  {
   "cell_type": "code",
   "execution_count": 6,
   "metadata": {},
   "outputs": [
    {
     "name": "stdout",
     "output_type": "stream",
     "text": [
      "Group 1. Legend Index:\n",
      "0\n",
      "Accuracy:\n",
      "0.591764705882353\n",
      "Group 2. Legend Index:\n",
      "2\n",
      "Accuracy:\n",
      "0.998019801980198\n",
      "Group 3. Legend Index:\n",
      "1\n",
      "Accuracy:\n",
      "0.9893048128342246\n",
      "Group 4. Legend Index:\n",
      "4\n",
      "Accuracy:\n",
      "1.0\n",
      "Group 5. Legend Index:\n",
      "1\n",
      "Accuracy:\n",
      "1.0\n",
      "Total Accuracy:\n",
      "0.9158178641393551\n"
     ]
    },
    {
     "data": {
      "image/png": "[encoded data removed]",
      "text/plain": [
       "<Figure size 432x288 with 1 Axes>"
      ]
     },
     "metadata": {},
     "output_type": "display_data"
    }
   ],
   "source": [
    "kmeans.kmeans(UMap)"
   ]
  },
  {
   "cell_type": "code",
   "execution_count": null,
   "metadata": {
    "collapsed": true
   },
   "outputs": [],
   "source": []
  }
 ],
 "metadata": {
  "kernelspec": {
   "display_name": "Python 3",
   "language": "python",
   "name": "python3"
  },
  "language_info": {
   "codemirror_mode": {
    "name": "ipython",
    "version": 3
   },
   "file_extension": ".py",
   "mimetype": "text/x-python",
   "name": "python",
   "nbconvert_exporter": "python",
   "pygments_lexer": "ipython3",
   "version": "3.6.8"
  }
 },
 "nbformat": 4,
 "nbformat_minor": 2
}
